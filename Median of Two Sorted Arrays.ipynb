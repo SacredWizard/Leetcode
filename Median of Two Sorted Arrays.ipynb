{
 "cells": [
  {
   "cell_type": "markdown",
   "metadata": {},
   "source": [
    "There are two sorted arrays nums1 and nums2 of size m and n respectively.\n",
    "\n",
    "Find the median of the two sorted arrays. The overall run time complexity should be O(log (m+n)).\n",
    "\n",
    "Example 1:\n",
    "```\n",
    "nums1 = [1, 3]\n",
    "nums2 = [2]\n",
    "\n",
    "The median is 2.0\n",
    "```\n",
    "\n",
    "Example 2:\n",
    "```\n",
    "nums1 = [1, 2]\n",
    "nums2 = [3, 4]\n",
    "\n",
    "The median is (2 + 3)/2 = 2.5\n",
    "```"
   ]
  },
  {
   "cell_type": "code",
   "execution_count": null,
   "metadata": {},
   "outputs": [],
   "source": [
    "class Solution:\n",
    "    def getMedian(self, a, b, k):\n",
    "        k = int(k)\n",
    "        la = len(a); lb = len(b)\n",
    "        if la > lb: return self.getMedian(b, a, k)\n",
    "        if la == 0: return b[k-1]\n",
    "        if k == 1: return min(a[0], b[0])\n",
    "        pa = int(min(k/2, la)); pb = k - pa\n",
    "        return self.getMedian(a[pa:], b, k - pa) if a[pa - 1] <= b[pb - 1] else self.getMedian(a, b[pb:], k - pb)\n",
    "    \n",
    "    def findMedianSortedArrays(self, a, b):\n",
    "        \"\"\"\n",
    "        :type nums1: List[int]\n",
    "        :type nums2: List[int]\n",
    "        :rtype: float\n",
    "        \"\"\"\n",
    "        la = len(a); lb = len(b)\n",
    "        if (la + lb) % 2 == 1: \n",
    "            return self.getMedian(a, b, (la + lb) / 2 + 1)\n",
    "        else:\n",
    "            return ( self.getMedian(a, b, (la + lb) / 2) + self.getMedian(a, b, (la + lb) / 2 + 1) ) / 2.0"
   ]
  }
 ],
 "metadata": {
  "kernelspec": {
   "display_name": "Python 3",
   "language": "python",
   "name": "python3"
  },
  "language_info": {
   "codemirror_mode": {
    "name": "ipython",
    "version": 3
   },
   "file_extension": ".py",
   "mimetype": "text/x-python",
   "name": "python",
   "nbconvert_exporter": "python",
   "pygments_lexer": "ipython3",
   "version": "3.6.4"
  }
 },
 "nbformat": 4,
 "nbformat_minor": 2
}
