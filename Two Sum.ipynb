{
 "cells": [
  {
   "cell_type": "markdown",
   "metadata": {},
   "source": [
    "Given an array of integers, return indices of the two numbers such that they add up to a specific target.\n",
    "\n",
    "You may assume that each input would have exactly one solution, and you may not use the same element twice.\n",
    "\n",
    "Example:\n",
    "\n",
    "```\n",
    "Given nums = [2, 7, 11, 15], target = 9,\n",
    "\n",
    "Because nums[0] + nums[1] = 2 + 7 = 9,\n",
    "return [0, 1].\n",
    "```\n"
   ]
  },
  {
   "cell_type": "code",
   "execution_count": null,
   "metadata": {},
   "outputs": [],
   "source": [
    "class Solution:\n",
    "    def twoSum(self, nums, target):\n",
    "        \"\"\"\n",
    "        :type nums: List[int]\n",
    "        :type target: int\n",
    "        :rtype: List[int]\n",
    "        \"\"\"\n",
    "        for i in range(len(nums)):\n",
    "            for j in range(i+1, len(nums)):\n",
    "                if nums[i] + nums[j] == target:\n",
    "                    return([i,j])\n",
    "        \n",
    "\n",
    "def stringToIntegerList(input):\n",
    "    return json.loads(input)\n",
    "\n",
    "def integerListToString(nums, len_of_list=None):\n",
    "    if not len_of_list:\n",
    "        len_of_list = len(nums)\n",
    "    return json.dumps(nums[:len_of_list])\n",
    "\n",
    "def main():\n",
    "    import sys\n",
    "    def readlines():\n",
    "        for line in sys.stdin:\n",
    "            yield line.strip('\\n')\n",
    "\n",
    "    lines = readlines()\n",
    "    while True:\n",
    "        try:\n",
    "            line = next(lines)\n",
    "            nums = stringToIntegerList(line);\n",
    "            line = next(lines)\n",
    "            target = int(line);\n",
    "            \n",
    "            ret = Solution().twoSum(nums, target)\n",
    "\n",
    "            out = integerListToString(ret);\n",
    "            print(out)\n",
    "        except StopIteration:\n",
    "            break\n",
    "\n",
    "if __name__ == '__main__':\n",
    "    main()"
   ]
  }
 ],
 "metadata": {
  "kernelspec": {
   "display_name": "Python 3",
   "language": "python",
   "name": "python3"
  },
  "language_info": {
   "codemirror_mode": {
    "name": "ipython",
    "version": 3
   },
   "file_extension": ".py",
   "mimetype": "text/x-python",
   "name": "python",
   "nbconvert_exporter": "python",
   "pygments_lexer": "ipython3",
   "version": "3.6.4"
  }
 },
 "nbformat": 4,
 "nbformat_minor": 2
}
