{
 "cells": [
  {
   "cell_type": "markdown",
   "source": [
    "Given a string containing just the characters '(' and ')', find the length of the longest valid (well-formed) parentheses substring.\n",
    "\n",
    "\n",
    "\n",
    "Example 1:\n",
    "\n",
    "Input: s = \"(()\"\n",
    "Output: 2\n",
    "Explanation: The longest valid parentheses substring is \"()\".\n",
    "\n",
    "Example 2:\n",
    "\n",
    "Input: s = \")()())\"\n",
    "Output: 4\n",
    "Explanation: The longest valid parentheses substring is \"()()\".\n",
    "\n",
    "Example 3:\n",
    "\n",
    "Input: s = \"\"\n",
    "Output: 0"
   ],
   "metadata": {
    "collapsed": false,
    "pycharm": {
     "name": "#%% md\n"
    }
   }
  },
  {
   "cell_type": "code",
   "execution_count": 4,
   "metadata": {
    "collapsed": true
   },
   "outputs": [
    {
     "name": "stdout",
     "output_type": "stream",
     "text": [
      "True\n"
     ]
    }
   ],
   "source": [
    "def validparantheses(s):\n",
    "    stack = list()\n",
    "    list(s)\n",
    "    for i in s:\n",
    "        if i in [\"(\", \"[\", \"{\"]:\n",
    "            stack.append(i)\n",
    "        elif not stack and i in [\"}\", \"]\", \")\"]:\n",
    "            return False\n",
    "        elif i == \")\":\n",
    "            if stack[-1] == \"(\":\n",
    "                stack.pop()\n",
    "            else:\n",
    "                return False\n",
    "        elif i == \"}\":\n",
    "            if stack[-1] == \"{\":\n",
    "                stack.pop()\n",
    "            else:\n",
    "                return False\n",
    "        elif i == \"]\":\n",
    "            if stack[-1] == \"[\":\n",
    "                stack.pop()\n",
    "            else:\n",
    "                return False\n",
    "    if stack:\n",
    "        return False\n",
    "    else:\n",
    "        return True\n",
    "\n",
    "\n",
    "if __name__ == '__main__':\n",
    "    print(validparantheses(\"()[]{[()]}\"))\n",
    "\n"
   ]
  }
 ],
 "metadata": {
  "kernelspec": {
   "display_name": "Python 3",
   "language": "python",
   "name": "python3"
  },
  "language_info": {
   "codemirror_mode": {
    "name": "ipython",
    "version": 2
   },
   "file_extension": ".py",
   "mimetype": "text/x-python",
   "name": "python",
   "nbconvert_exporter": "python",
   "pygments_lexer": "ipython2",
   "version": "2.7.6"
  }
 },
 "nbformat": 4,
 "nbformat_minor": 0
}