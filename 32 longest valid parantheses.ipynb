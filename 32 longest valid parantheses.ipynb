{
 "cells": [
  {
   "cell_type": "markdown",
   "source": [
    "Given a string containing just the characters '(' and ')', find the length of the longest valid (well-formed) parentheses substring.\n",
    "\n",
    "\n",
    "\n",
    "Example 1:\n",
    "\n",
    "Input: s = \"(()\"\n",
    "Output: 2\n",
    "Explanation: The longest valid parentheses substring is \"()\".\n",
    "\n",
    "Example 2:\n",
    "\n",
    "Input: s = \")()())\"\n",
    "Output: 4\n",
    "Explanation: The longest valid parentheses substring is \"()()\".\n",
    "\n",
    "Example 3:\n",
    "\n",
    "Input: s = \"\"\n",
    "Output: 0"
   ],
   "metadata": {
    "collapsed": false,
    "pycharm": {
     "name": "#%% md\n"
    }
   }
  },
  {
   "cell_type": "code",
   "execution_count": 4,
   "metadata": {
    "collapsed": true
   },
   "outputs": [
    {
     "name": "stdout",
     "output_type": "stream",
     "text": [
      "True\n"
     ]
    }
   ],
   "source": [
    "class Solution:\n",
    "\n",
    "    def longestValidParentheses(self, s):\n",
    "        if not s:\n",
    "            return 0\n",
    "\n",
    "        sums, res, le, n = 0, 0, 0, len(s)\n",
    "\n",
    "        for i in range(0, n):\n",
    "            if s[i] == \"(\":\n",
    "                sums += 1\n",
    "            else:\n",
    "                sums -= 1\n",
    "            if sums < 0:\n",
    "                sums = 0\n",
    "                le = 0\n",
    "            else:\n",
    "                le += 1\n",
    "                if sums == 0:\n",
    "                    res = max(res, le)\n",
    "        sums, le = 0, 0\n",
    "        for i in range(n - 1, -1, -1):\n",
    "            if s[i] == \")\":\n",
    "                sums += 1\n",
    "            else:\n",
    "                sums -= 1\n",
    "            if sums < 0:\n",
    "                sums = 0\n",
    "                le = 0\n",
    "            else:\n",
    "                le += 1\n",
    "                if sums == 0:\n",
    "                    res = max(res, le)\n",
    "\n",
    "        return res\n",
    "\n",
    "\n",
    "if __name__ == \"__main__\":\n",
    "    print(Solution().longestValidParentheses(\")()())\"))\n",
    "    print(Solution().longestValidParentheses(\"(()\"))\n",
    "    print(Solution().longestValidParentheses(\"\"))\n",
    "\n"
   ]
  }
 ],
 "metadata": {
  "kernelspec": {
   "display_name": "Python 3",
   "language": "python",
   "name": "python3"
  },
  "language_info": {
   "codemirror_mode": {
    "name": "ipython",
    "version": 2
   },
   "file_extension": ".py",
   "mimetype": "text/x-python",
   "name": "python",
   "nbconvert_exporter": "python",
   "pygments_lexer": "ipython2",
   "version": "2.7.6"
  }
 },
 "nbformat": 4,
 "nbformat_minor": 0
}